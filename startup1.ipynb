{
 "cells": [
  {
   "cell_type": "markdown",
   "id": "ad2fc59f",
   "metadata": {},
   "source": [
    "# startup\n",
    "The task is to develop a machine learning model that can predict the success rate of startups based on various attributes and features. Startup success rate prediction involves analyzing factors such as funding, team composition, industry, market trends, and other relevant variables to estimate the likelihood of a startup's success. The goal is to create a model that can accurately predict the success or failure of startups, assisting entrepreneurs, investors, and stakeholders in making informed decisions."
   ]
  },
  {
   "cell_type": "code",
   "execution_count": 1,
   "id": "0c0b24d0",
   "metadata": {},
   "outputs": [],
   "source": [
    "import pandas as pd \n",
    "import numpy as np\n",
    "import matplotlib.pyplot as plt\n",
    "import seaborn as sns"
   ]
  },
  {
   "cell_type": "code",
   "execution_count": 2,
   "id": "134422dc",
   "metadata": {},
   "outputs": [],
   "source": [
    "df=pd.read_csv('sd.CSV')"
   ]
  },
  {
   "cell_type": "code",
   "execution_count": 3,
   "id": "ad265c95",
   "metadata": {},
   "outputs": [
    {
     "data": {
      "text/html": [
       "<div>\n",
       "<style scoped>\n",
       "    .dataframe tbody tr th:only-of-type {\n",
       "        vertical-align: middle;\n",
       "    }\n",
       "\n",
       "    .dataframe tbody tr th {\n",
       "        vertical-align: top;\n",
       "    }\n",
       "\n",
       "    .dataframe thead th {\n",
       "        text-align: right;\n",
       "    }\n",
       "</style>\n",
       "<table border=\"1\" class=\"dataframe\">\n",
       "  <thead>\n",
       "    <tr style=\"text-align: right;\">\n",
       "      <th></th>\n",
       "      <th>Unnamed: 0</th>\n",
       "      <th>state_code</th>\n",
       "      <th>latitude</th>\n",
       "      <th>longitude</th>\n",
       "      <th>zip_code</th>\n",
       "      <th>id</th>\n",
       "      <th>city</th>\n",
       "      <th>Unnamed: 6</th>\n",
       "      <th>name</th>\n",
       "      <th>labels</th>\n",
       "      <th>...</th>\n",
       "      <th>object_id</th>\n",
       "      <th>has_VC</th>\n",
       "      <th>has_angel</th>\n",
       "      <th>has_roundA</th>\n",
       "      <th>has_roundB</th>\n",
       "      <th>has_roundC</th>\n",
       "      <th>has_roundD</th>\n",
       "      <th>avg_participants</th>\n",
       "      <th>is_top500</th>\n",
       "      <th>status</th>\n",
       "    </tr>\n",
       "  </thead>\n",
       "  <tbody>\n",
       "    <tr>\n",
       "      <th>0</th>\n",
       "      <td>1005</td>\n",
       "      <td>CA</td>\n",
       "      <td>42.358880</td>\n",
       "      <td>-71.056820</td>\n",
       "      <td>92101</td>\n",
       "      <td>c:6669</td>\n",
       "      <td>San Diego</td>\n",
       "      <td>NaN</td>\n",
       "      <td>Bandsintown</td>\n",
       "      <td>1</td>\n",
       "      <td>...</td>\n",
       "      <td>c:6669</td>\n",
       "      <td>0</td>\n",
       "      <td>1</td>\n",
       "      <td>0</td>\n",
       "      <td>0</td>\n",
       "      <td>0</td>\n",
       "      <td>0</td>\n",
       "      <td>1.0000</td>\n",
       "      <td>0</td>\n",
       "      <td>acquired</td>\n",
       "    </tr>\n",
       "    <tr>\n",
       "      <th>1</th>\n",
       "      <td>204</td>\n",
       "      <td>CA</td>\n",
       "      <td>37.238916</td>\n",
       "      <td>-121.973718</td>\n",
       "      <td>95032</td>\n",
       "      <td>c:16283</td>\n",
       "      <td>Los Gatos</td>\n",
       "      <td>NaN</td>\n",
       "      <td>TriCipher</td>\n",
       "      <td>1</td>\n",
       "      <td>...</td>\n",
       "      <td>c:16283</td>\n",
       "      <td>1</td>\n",
       "      <td>0</td>\n",
       "      <td>0</td>\n",
       "      <td>1</td>\n",
       "      <td>1</td>\n",
       "      <td>1</td>\n",
       "      <td>4.7500</td>\n",
       "      <td>1</td>\n",
       "      <td>acquired</td>\n",
       "    </tr>\n",
       "    <tr>\n",
       "      <th>2</th>\n",
       "      <td>1001</td>\n",
       "      <td>CA</td>\n",
       "      <td>32.901049</td>\n",
       "      <td>-117.192656</td>\n",
       "      <td>92121</td>\n",
       "      <td>c:65620</td>\n",
       "      <td>San Diego</td>\n",
       "      <td>San Diego CA 92121</td>\n",
       "      <td>Plixi</td>\n",
       "      <td>1</td>\n",
       "      <td>...</td>\n",
       "      <td>c:65620</td>\n",
       "      <td>0</td>\n",
       "      <td>0</td>\n",
       "      <td>1</td>\n",
       "      <td>0</td>\n",
       "      <td>0</td>\n",
       "      <td>0</td>\n",
       "      <td>4.0000</td>\n",
       "      <td>1</td>\n",
       "      <td>acquired</td>\n",
       "    </tr>\n",
       "    <tr>\n",
       "      <th>3</th>\n",
       "      <td>738</td>\n",
       "      <td>CA</td>\n",
       "      <td>37.320309</td>\n",
       "      <td>-122.050040</td>\n",
       "      <td>95014</td>\n",
       "      <td>c:42668</td>\n",
       "      <td>Cupertino</td>\n",
       "      <td>Cupertino CA 95014</td>\n",
       "      <td>Solidcore Systems</td>\n",
       "      <td>1</td>\n",
       "      <td>...</td>\n",
       "      <td>c:42668</td>\n",
       "      <td>0</td>\n",
       "      <td>0</td>\n",
       "      <td>0</td>\n",
       "      <td>1</td>\n",
       "      <td>1</td>\n",
       "      <td>1</td>\n",
       "      <td>3.3333</td>\n",
       "      <td>1</td>\n",
       "      <td>acquired</td>\n",
       "    </tr>\n",
       "    <tr>\n",
       "      <th>4</th>\n",
       "      <td>1002</td>\n",
       "      <td>CA</td>\n",
       "      <td>37.779281</td>\n",
       "      <td>-122.419236</td>\n",
       "      <td>94105</td>\n",
       "      <td>c:65806</td>\n",
       "      <td>San Francisco</td>\n",
       "      <td>San Francisco CA 94105</td>\n",
       "      <td>Inhale Digital</td>\n",
       "      <td>0</td>\n",
       "      <td>...</td>\n",
       "      <td>c:65806</td>\n",
       "      <td>1</td>\n",
       "      <td>1</td>\n",
       "      <td>0</td>\n",
       "      <td>0</td>\n",
       "      <td>0</td>\n",
       "      <td>0</td>\n",
       "      <td>1.0000</td>\n",
       "      <td>1</td>\n",
       "      <td>closed</td>\n",
       "    </tr>\n",
       "  </tbody>\n",
       "</table>\n",
       "<p>5 rows × 49 columns</p>\n",
       "</div>"
      ],
      "text/plain": [
       "   Unnamed: 0 state_code   latitude   longitude zip_code       id  \\\n",
       "0        1005         CA  42.358880  -71.056820    92101   c:6669   \n",
       "1         204         CA  37.238916 -121.973718    95032  c:16283   \n",
       "2        1001         CA  32.901049 -117.192656    92121  c:65620   \n",
       "3         738         CA  37.320309 -122.050040    95014  c:42668   \n",
       "4        1002         CA  37.779281 -122.419236    94105  c:65806   \n",
       "\n",
       "            city              Unnamed: 6               name  labels  ...  \\\n",
       "0      San Diego                     NaN        Bandsintown       1  ...   \n",
       "1      Los Gatos                     NaN          TriCipher       1  ...   \n",
       "2      San Diego      San Diego CA 92121              Plixi       1  ...   \n",
       "3      Cupertino      Cupertino CA 95014  Solidcore Systems       1  ...   \n",
       "4  San Francisco  San Francisco CA 94105     Inhale Digital       0  ...   \n",
       "\n",
       "  object_id has_VC has_angel has_roundA  has_roundB  has_roundC  has_roundD  \\\n",
       "0    c:6669      0         1          0           0           0           0   \n",
       "1   c:16283      1         0          0           1           1           1   \n",
       "2   c:65620      0         0          1           0           0           0   \n",
       "3   c:42668      0         0          0           1           1           1   \n",
       "4   c:65806      1         1          0           0           0           0   \n",
       "\n",
       "   avg_participants  is_top500    status  \n",
       "0            1.0000          0  acquired  \n",
       "1            4.7500          1  acquired  \n",
       "2            4.0000          1  acquired  \n",
       "3            3.3333          1  acquired  \n",
       "4            1.0000          1    closed  \n",
       "\n",
       "[5 rows x 49 columns]"
      ]
     },
     "execution_count": 3,
     "metadata": {},
     "output_type": "execute_result"
    }
   ],
   "source": [
    "df.head()"
   ]
  },
  {
   "cell_type": "code",
   "execution_count": 4,
   "id": "910c29a6",
   "metadata": {},
   "outputs": [
    {
     "data": {
      "text/plain": [
       "Unnamed: 0                    0\n",
       "state_code                    0\n",
       "latitude                      0\n",
       "longitude                     0\n",
       "zip_code                      0\n",
       "id                            0\n",
       "city                          0\n",
       "Unnamed: 6                  493\n",
       "name                          0\n",
       "labels                        0\n",
       "founded_at                    0\n",
       "closed_at                   588\n",
       "first_funding_at              0\n",
       "last_funding_at               0\n",
       "age_first_funding_year        0\n",
       "age_last_funding_year         0\n",
       "age_first_milestone_year    152\n",
       "age_last_milestone_year     152\n",
       "relationships                 0\n",
       "funding_rounds                0\n",
       "funding_total_usd             0\n",
       "milestones                    0\n",
       "state_code.1                  1\n",
       "is_CA                         0\n",
       "is_NY                         0\n",
       "is_MA                         0\n",
       "is_TX                         0\n",
       "is_otherstate                 0\n",
       "category_code                 0\n",
       "is_software                   0\n",
       "is_web                        0\n",
       "is_mobile                     0\n",
       "is_enterprise                 0\n",
       "is_advertising                0\n",
       "is_gamesvideo                 0\n",
       "is_ecommerce                  0\n",
       "is_biotech                    0\n",
       "is_consulting                 0\n",
       "is_othercategory              0\n",
       "object_id                     0\n",
       "has_VC                        0\n",
       "has_angel                     0\n",
       "has_roundA                    0\n",
       "has_roundB                    0\n",
       "has_roundC                    0\n",
       "has_roundD                    0\n",
       "avg_participants              0\n",
       "is_top500                     0\n",
       "status                        0\n",
       "dtype: int64"
      ]
     },
     "execution_count": 4,
     "metadata": {},
     "output_type": "execute_result"
    }
   ],
   "source": [
    "df.isnull().sum()"
   ]
  },
  {
   "cell_type": "code",
   "execution_count": 5,
   "id": "1ffae5fa",
   "metadata": {},
   "outputs": [],
   "source": [
    "#we have found missing values since we will be using ffill for such \n"
   ]
  },
  {
   "cell_type": "code",
   "execution_count": 6,
   "id": "2c425184",
   "metadata": {},
   "outputs": [
    {
     "name": "stdout",
     "output_type": "stream",
     "text": [
      "0      4.6685\n",
      "1      7.0055\n",
      "2      1.4575\n",
      "3      6.0027\n",
      "4      0.0384\n",
      "        ...  \n",
      "918    0.5808\n",
      "919    6.0027\n",
      "920    9.0055\n",
      "921    0.7589\n",
      "922    4.0027\n",
      "Name: age_first_milestone_year, Length: 923, dtype: float64\n"
     ]
    }
   ],
   "source": [
    "print(df['age_first_milestone_year'])"
   ]
  },
  {
   "cell_type": "code",
   "execution_count": 7,
   "id": "51de3506",
   "metadata": {},
   "outputs": [],
   "source": [
    "\n",
    "df['closed_at'] = df['closed_at'].fillna(method='ffill')\n"
   ]
  },
  {
   "cell_type": "code",
   "execution_count": 8,
   "id": "3f8b63b2",
   "metadata": {},
   "outputs": [
    {
     "data": {
      "text/plain": [
       "Unnamed: 0                    0\n",
       "state_code                    0\n",
       "latitude                      0\n",
       "longitude                     0\n",
       "zip_code                      0\n",
       "id                            0\n",
       "city                          0\n",
       "Unnamed: 6                  493\n",
       "name                          0\n",
       "labels                        0\n",
       "founded_at                    0\n",
       "closed_at                     4\n",
       "first_funding_at              0\n",
       "last_funding_at               0\n",
       "age_first_funding_year        0\n",
       "age_last_funding_year         0\n",
       "age_first_milestone_year    152\n",
       "age_last_milestone_year     152\n",
       "relationships                 0\n",
       "funding_rounds                0\n",
       "funding_total_usd             0\n",
       "milestones                    0\n",
       "state_code.1                  1\n",
       "is_CA                         0\n",
       "is_NY                         0\n",
       "is_MA                         0\n",
       "is_TX                         0\n",
       "is_otherstate                 0\n",
       "category_code                 0\n",
       "is_software                   0\n",
       "is_web                        0\n",
       "is_mobile                     0\n",
       "is_enterprise                 0\n",
       "is_advertising                0\n",
       "is_gamesvideo                 0\n",
       "is_ecommerce                  0\n",
       "is_biotech                    0\n",
       "is_consulting                 0\n",
       "is_othercategory              0\n",
       "object_id                     0\n",
       "has_VC                        0\n",
       "has_angel                     0\n",
       "has_roundA                    0\n",
       "has_roundB                    0\n",
       "has_roundC                    0\n",
       "has_roundD                    0\n",
       "avg_participants              0\n",
       "is_top500                     0\n",
       "status                        0\n",
       "dtype: int64"
      ]
     },
     "execution_count": 8,
     "metadata": {},
     "output_type": "execute_result"
    }
   ],
   "source": [
    "df.isnull().sum()"
   ]
  },
  {
   "cell_type": "code",
   "execution_count": 9,
   "id": "f8bbb286",
   "metadata": {},
   "outputs": [],
   "source": [
    "df['age_first_milestone_year'].interpolate(inplace=True)"
   ]
  },
  {
   "cell_type": "code",
   "execution_count": 10,
   "id": "b74469b0",
   "metadata": {},
   "outputs": [],
   "source": [
    "df['age_last_milestone_year'].interpolate(inplace=True)"
   ]
  },
  {
   "cell_type": "code",
   "execution_count": 11,
   "id": "de791cf3",
   "metadata": {},
   "outputs": [
    {
     "data": {
      "text/plain": [
       "Unnamed: 0                    0\n",
       "state_code                    0\n",
       "latitude                      0\n",
       "longitude                     0\n",
       "zip_code                      0\n",
       "id                            0\n",
       "city                          0\n",
       "Unnamed: 6                  493\n",
       "name                          0\n",
       "labels                        0\n",
       "founded_at                    0\n",
       "closed_at                     4\n",
       "first_funding_at              0\n",
       "last_funding_at               0\n",
       "age_first_funding_year        0\n",
       "age_last_funding_year         0\n",
       "age_first_milestone_year      0\n",
       "age_last_milestone_year       0\n",
       "relationships                 0\n",
       "funding_rounds                0\n",
       "funding_total_usd             0\n",
       "milestones                    0\n",
       "state_code.1                  1\n",
       "is_CA                         0\n",
       "is_NY                         0\n",
       "is_MA                         0\n",
       "is_TX                         0\n",
       "is_otherstate                 0\n",
       "category_code                 0\n",
       "is_software                   0\n",
       "is_web                        0\n",
       "is_mobile                     0\n",
       "is_enterprise                 0\n",
       "is_advertising                0\n",
       "is_gamesvideo                 0\n",
       "is_ecommerce                  0\n",
       "is_biotech                    0\n",
       "is_consulting                 0\n",
       "is_othercategory              0\n",
       "object_id                     0\n",
       "has_VC                        0\n",
       "has_angel                     0\n",
       "has_roundA                    0\n",
       "has_roundB                    0\n",
       "has_roundC                    0\n",
       "has_roundD                    0\n",
       "avg_participants              0\n",
       "is_top500                     0\n",
       "status                        0\n",
       "dtype: int64"
      ]
     },
     "execution_count": 11,
     "metadata": {},
     "output_type": "execute_result"
    }
   ],
   "source": [
    "df.isnull().sum()"
   ]
  },
  {
   "cell_type": "code",
   "execution_count": 12,
   "id": "2a35ddba",
   "metadata": {},
   "outputs": [],
   "source": [
    "df1=df.drop('Unnamed: 6',axis=1)"
   ]
  },
  {
   "cell_type": "code",
   "execution_count": 13,
   "id": "6e9fac4e",
   "metadata": {},
   "outputs": [
    {
     "data": {
      "text/plain": [
       "Unnamed: 0                  0\n",
       "state_code                  0\n",
       "latitude                    0\n",
       "longitude                   0\n",
       "zip_code                    0\n",
       "id                          0\n",
       "city                        0\n",
       "name                        0\n",
       "labels                      0\n",
       "founded_at                  0\n",
       "closed_at                   4\n",
       "first_funding_at            0\n",
       "last_funding_at             0\n",
       "age_first_funding_year      0\n",
       "age_last_funding_year       0\n",
       "age_first_milestone_year    0\n",
       "age_last_milestone_year     0\n",
       "relationships               0\n",
       "funding_rounds              0\n",
       "funding_total_usd           0\n",
       "milestones                  0\n",
       "state_code.1                1\n",
       "is_CA                       0\n",
       "is_NY                       0\n",
       "is_MA                       0\n",
       "is_TX                       0\n",
       "is_otherstate               0\n",
       "category_code               0\n",
       "is_software                 0\n",
       "is_web                      0\n",
       "is_mobile                   0\n",
       "is_enterprise               0\n",
       "is_advertising              0\n",
       "is_gamesvideo               0\n",
       "is_ecommerce                0\n",
       "is_biotech                  0\n",
       "is_consulting               0\n",
       "is_othercategory            0\n",
       "object_id                   0\n",
       "has_VC                      0\n",
       "has_angel                   0\n",
       "has_roundA                  0\n",
       "has_roundB                  0\n",
       "has_roundC                  0\n",
       "has_roundD                  0\n",
       "avg_participants            0\n",
       "is_top500                   0\n",
       "status                      0\n",
       "dtype: int64"
      ]
     },
     "execution_count": 13,
     "metadata": {},
     "output_type": "execute_result"
    }
   ],
   "source": [
    "df1.isnull().sum()"
   ]
  },
  {
   "cell_type": "code",
   "execution_count": 14,
   "id": "1a81c19b",
   "metadata": {},
   "outputs": [
    {
     "data": {
      "text/html": [
       "<div>\n",
       "<style scoped>\n",
       "    .dataframe tbody tr th:only-of-type {\n",
       "        vertical-align: middle;\n",
       "    }\n",
       "\n",
       "    .dataframe tbody tr th {\n",
       "        vertical-align: top;\n",
       "    }\n",
       "\n",
       "    .dataframe thead th {\n",
       "        text-align: right;\n",
       "    }\n",
       "</style>\n",
       "<table border=\"1\" class=\"dataframe\">\n",
       "  <thead>\n",
       "    <tr style=\"text-align: right;\">\n",
       "      <th></th>\n",
       "      <th>Unnamed: 0</th>\n",
       "      <th>state_code</th>\n",
       "      <th>latitude</th>\n",
       "      <th>longitude</th>\n",
       "      <th>zip_code</th>\n",
       "      <th>id</th>\n",
       "      <th>city</th>\n",
       "      <th>name</th>\n",
       "      <th>labels</th>\n",
       "      <th>founded_at</th>\n",
       "      <th>...</th>\n",
       "      <th>object_id</th>\n",
       "      <th>has_VC</th>\n",
       "      <th>has_angel</th>\n",
       "      <th>has_roundA</th>\n",
       "      <th>has_roundB</th>\n",
       "      <th>has_roundC</th>\n",
       "      <th>has_roundD</th>\n",
       "      <th>avg_participants</th>\n",
       "      <th>is_top500</th>\n",
       "      <th>status</th>\n",
       "    </tr>\n",
       "  </thead>\n",
       "  <tbody>\n",
       "    <tr>\n",
       "      <th>0</th>\n",
       "      <td>1005</td>\n",
       "      <td>CA</td>\n",
       "      <td>42.358880</td>\n",
       "      <td>-71.056820</td>\n",
       "      <td>92101</td>\n",
       "      <td>c:6669</td>\n",
       "      <td>San Diego</td>\n",
       "      <td>Bandsintown</td>\n",
       "      <td>1</td>\n",
       "      <td>1/1/2007</td>\n",
       "      <td>...</td>\n",
       "      <td>c:6669</td>\n",
       "      <td>0</td>\n",
       "      <td>1</td>\n",
       "      <td>0</td>\n",
       "      <td>0</td>\n",
       "      <td>0</td>\n",
       "      <td>0</td>\n",
       "      <td>1.0000</td>\n",
       "      <td>0</td>\n",
       "      <td>acquired</td>\n",
       "    </tr>\n",
       "    <tr>\n",
       "      <th>1</th>\n",
       "      <td>204</td>\n",
       "      <td>CA</td>\n",
       "      <td>37.238916</td>\n",
       "      <td>-121.973718</td>\n",
       "      <td>95032</td>\n",
       "      <td>c:16283</td>\n",
       "      <td>Los Gatos</td>\n",
       "      <td>TriCipher</td>\n",
       "      <td>1</td>\n",
       "      <td>1/1/2000</td>\n",
       "      <td>...</td>\n",
       "      <td>c:16283</td>\n",
       "      <td>1</td>\n",
       "      <td>0</td>\n",
       "      <td>0</td>\n",
       "      <td>1</td>\n",
       "      <td>1</td>\n",
       "      <td>1</td>\n",
       "      <td>4.7500</td>\n",
       "      <td>1</td>\n",
       "      <td>acquired</td>\n",
       "    </tr>\n",
       "    <tr>\n",
       "      <th>2</th>\n",
       "      <td>1001</td>\n",
       "      <td>CA</td>\n",
       "      <td>32.901049</td>\n",
       "      <td>-117.192656</td>\n",
       "      <td>92121</td>\n",
       "      <td>c:65620</td>\n",
       "      <td>San Diego</td>\n",
       "      <td>Plixi</td>\n",
       "      <td>1</td>\n",
       "      <td>3/18/2009</td>\n",
       "      <td>...</td>\n",
       "      <td>c:65620</td>\n",
       "      <td>0</td>\n",
       "      <td>0</td>\n",
       "      <td>1</td>\n",
       "      <td>0</td>\n",
       "      <td>0</td>\n",
       "      <td>0</td>\n",
       "      <td>4.0000</td>\n",
       "      <td>1</td>\n",
       "      <td>acquired</td>\n",
       "    </tr>\n",
       "    <tr>\n",
       "      <th>3</th>\n",
       "      <td>738</td>\n",
       "      <td>CA</td>\n",
       "      <td>37.320309</td>\n",
       "      <td>-122.050040</td>\n",
       "      <td>95014</td>\n",
       "      <td>c:42668</td>\n",
       "      <td>Cupertino</td>\n",
       "      <td>Solidcore Systems</td>\n",
       "      <td>1</td>\n",
       "      <td>1/1/2002</td>\n",
       "      <td>...</td>\n",
       "      <td>c:42668</td>\n",
       "      <td>0</td>\n",
       "      <td>0</td>\n",
       "      <td>0</td>\n",
       "      <td>1</td>\n",
       "      <td>1</td>\n",
       "      <td>1</td>\n",
       "      <td>3.3333</td>\n",
       "      <td>1</td>\n",
       "      <td>acquired</td>\n",
       "    </tr>\n",
       "    <tr>\n",
       "      <th>4</th>\n",
       "      <td>1002</td>\n",
       "      <td>CA</td>\n",
       "      <td>37.779281</td>\n",
       "      <td>-122.419236</td>\n",
       "      <td>94105</td>\n",
       "      <td>c:65806</td>\n",
       "      <td>San Francisco</td>\n",
       "      <td>Inhale Digital</td>\n",
       "      <td>0</td>\n",
       "      <td>8/1/2010</td>\n",
       "      <td>...</td>\n",
       "      <td>c:65806</td>\n",
       "      <td>1</td>\n",
       "      <td>1</td>\n",
       "      <td>0</td>\n",
       "      <td>0</td>\n",
       "      <td>0</td>\n",
       "      <td>0</td>\n",
       "      <td>1.0000</td>\n",
       "      <td>1</td>\n",
       "      <td>closed</td>\n",
       "    </tr>\n",
       "    <tr>\n",
       "      <th>...</th>\n",
       "      <td>...</td>\n",
       "      <td>...</td>\n",
       "      <td>...</td>\n",
       "      <td>...</td>\n",
       "      <td>...</td>\n",
       "      <td>...</td>\n",
       "      <td>...</td>\n",
       "      <td>...</td>\n",
       "      <td>...</td>\n",
       "      <td>...</td>\n",
       "      <td>...</td>\n",
       "      <td>...</td>\n",
       "      <td>...</td>\n",
       "      <td>...</td>\n",
       "      <td>...</td>\n",
       "      <td>...</td>\n",
       "      <td>...</td>\n",
       "      <td>...</td>\n",
       "      <td>...</td>\n",
       "      <td>...</td>\n",
       "      <td>...</td>\n",
       "    </tr>\n",
       "    <tr>\n",
       "      <th>918</th>\n",
       "      <td>352</td>\n",
       "      <td>CA</td>\n",
       "      <td>37.740594</td>\n",
       "      <td>-122.376471</td>\n",
       "      <td>94107</td>\n",
       "      <td>c:21343</td>\n",
       "      <td>San Francisco</td>\n",
       "      <td>CoTweet</td>\n",
       "      <td>1</td>\n",
       "      <td>1/1/2009</td>\n",
       "      <td>...</td>\n",
       "      <td>c:21343</td>\n",
       "      <td>0</td>\n",
       "      <td>0</td>\n",
       "      <td>1</td>\n",
       "      <td>0</td>\n",
       "      <td>0</td>\n",
       "      <td>0</td>\n",
       "      <td>6.0000</td>\n",
       "      <td>1</td>\n",
       "      <td>acquired</td>\n",
       "    </tr>\n",
       "    <tr>\n",
       "      <th>919</th>\n",
       "      <td>721</td>\n",
       "      <td>MA</td>\n",
       "      <td>42.504817</td>\n",
       "      <td>-71.195611</td>\n",
       "      <td>1803</td>\n",
       "      <td>c:41747</td>\n",
       "      <td>Burlington</td>\n",
       "      <td>Reef Point Systems</td>\n",
       "      <td>0</td>\n",
       "      <td>1/1/1998</td>\n",
       "      <td>...</td>\n",
       "      <td>c:41747</td>\n",
       "      <td>1</td>\n",
       "      <td>0</td>\n",
       "      <td>0</td>\n",
       "      <td>1</td>\n",
       "      <td>0</td>\n",
       "      <td>0</td>\n",
       "      <td>2.6667</td>\n",
       "      <td>1</td>\n",
       "      <td>closed</td>\n",
       "    </tr>\n",
       "    <tr>\n",
       "      <th>920</th>\n",
       "      <td>557</td>\n",
       "      <td>CA</td>\n",
       "      <td>37.408261</td>\n",
       "      <td>-122.015920</td>\n",
       "      <td>94089</td>\n",
       "      <td>c:31549</td>\n",
       "      <td>Sunnyvale</td>\n",
       "      <td>Paracor Medical</td>\n",
       "      <td>0</td>\n",
       "      <td>1/1/1999</td>\n",
       "      <td>...</td>\n",
       "      <td>c:31549</td>\n",
       "      <td>0</td>\n",
       "      <td>0</td>\n",
       "      <td>0</td>\n",
       "      <td>0</td>\n",
       "      <td>0</td>\n",
       "      <td>1</td>\n",
       "      <td>8.0000</td>\n",
       "      <td>1</td>\n",
       "      <td>closed</td>\n",
       "    </tr>\n",
       "    <tr>\n",
       "      <th>921</th>\n",
       "      <td>589</td>\n",
       "      <td>CA</td>\n",
       "      <td>37.556732</td>\n",
       "      <td>-122.288378</td>\n",
       "      <td>94404</td>\n",
       "      <td>c:33198</td>\n",
       "      <td>San Francisco</td>\n",
       "      <td>Causata</td>\n",
       "      <td>1</td>\n",
       "      <td>1/1/2009</td>\n",
       "      <td>...</td>\n",
       "      <td>c:33198</td>\n",
       "      <td>0</td>\n",
       "      <td>0</td>\n",
       "      <td>1</td>\n",
       "      <td>1</td>\n",
       "      <td>0</td>\n",
       "      <td>0</td>\n",
       "      <td>1.0000</td>\n",
       "      <td>1</td>\n",
       "      <td>acquired</td>\n",
       "    </tr>\n",
       "    <tr>\n",
       "      <th>922</th>\n",
       "      <td>462</td>\n",
       "      <td>CA</td>\n",
       "      <td>37.386778</td>\n",
       "      <td>-121.966277</td>\n",
       "      <td>95054</td>\n",
       "      <td>c:26702</td>\n",
       "      <td>Santa Clara</td>\n",
       "      <td>Asempra Technologies</td>\n",
       "      <td>1</td>\n",
       "      <td>1/1/2003</td>\n",
       "      <td>...</td>\n",
       "      <td>c:26702</td>\n",
       "      <td>0</td>\n",
       "      <td>0</td>\n",
       "      <td>0</td>\n",
       "      <td>1</td>\n",
       "      <td>0</td>\n",
       "      <td>0</td>\n",
       "      <td>3.0000</td>\n",
       "      <td>1</td>\n",
       "      <td>acquired</td>\n",
       "    </tr>\n",
       "  </tbody>\n",
       "</table>\n",
       "<p>923 rows × 47 columns</p>\n",
       "</div>"
      ],
      "text/plain": [
       "     Unnamed: 0 state_code   latitude   longitude zip_code       id  \\\n",
       "0          1005         CA  42.358880  -71.056820    92101   c:6669   \n",
       "1           204         CA  37.238916 -121.973718    95032  c:16283   \n",
       "2          1001         CA  32.901049 -117.192656    92121  c:65620   \n",
       "3           738         CA  37.320309 -122.050040    95014  c:42668   \n",
       "4          1002         CA  37.779281 -122.419236    94105  c:65806   \n",
       "..          ...        ...        ...         ...      ...      ...   \n",
       "918         352         CA  37.740594 -122.376471    94107  c:21343   \n",
       "919         721         MA  42.504817  -71.195611     1803  c:41747   \n",
       "920         557         CA  37.408261 -122.015920    94089  c:31549   \n",
       "921         589         CA  37.556732 -122.288378    94404  c:33198   \n",
       "922         462         CA  37.386778 -121.966277    95054  c:26702   \n",
       "\n",
       "              city                  name  labels founded_at  ... object_id  \\\n",
       "0        San Diego           Bandsintown       1   1/1/2007  ...    c:6669   \n",
       "1        Los Gatos             TriCipher       1   1/1/2000  ...   c:16283   \n",
       "2        San Diego                 Plixi       1  3/18/2009  ...   c:65620   \n",
       "3        Cupertino     Solidcore Systems       1   1/1/2002  ...   c:42668   \n",
       "4    San Francisco        Inhale Digital       0   8/1/2010  ...   c:65806   \n",
       "..             ...                   ...     ...        ...  ...       ...   \n",
       "918  San Francisco               CoTweet       1   1/1/2009  ...   c:21343   \n",
       "919     Burlington    Reef Point Systems       0   1/1/1998  ...   c:41747   \n",
       "920      Sunnyvale       Paracor Medical       0   1/1/1999  ...   c:31549   \n",
       "921  San Francisco               Causata       1   1/1/2009  ...   c:33198   \n",
       "922    Santa Clara  Asempra Technologies       1   1/1/2003  ...   c:26702   \n",
       "\n",
       "    has_VC has_angel  has_roundA  has_roundB  has_roundC  has_roundD  \\\n",
       "0        0         1           0           0           0           0   \n",
       "1        1         0           0           1           1           1   \n",
       "2        0         0           1           0           0           0   \n",
       "3        0         0           0           1           1           1   \n",
       "4        1         1           0           0           0           0   \n",
       "..     ...       ...         ...         ...         ...         ...   \n",
       "918      0         0           1           0           0           0   \n",
       "919      1         0           0           1           0           0   \n",
       "920      0         0           0           0           0           1   \n",
       "921      0         0           1           1           0           0   \n",
       "922      0         0           0           1           0           0   \n",
       "\n",
       "     avg_participants  is_top500    status  \n",
       "0              1.0000          0  acquired  \n",
       "1              4.7500          1  acquired  \n",
       "2              4.0000          1  acquired  \n",
       "3              3.3333          1  acquired  \n",
       "4              1.0000          1    closed  \n",
       "..                ...        ...       ...  \n",
       "918            6.0000          1  acquired  \n",
       "919            2.6667          1    closed  \n",
       "920            8.0000          1    closed  \n",
       "921            1.0000          1  acquired  \n",
       "922            3.0000          1  acquired  \n",
       "\n",
       "[923 rows x 47 columns]"
      ]
     },
     "execution_count": 14,
     "metadata": {},
     "output_type": "execute_result"
    }
   ],
   "source": [
    "df1.drop('state_code.1',axis=1)"
   ]
  },
  {
   "cell_type": "code",
   "execution_count": 15,
   "id": "a4dfb783",
   "metadata": {},
   "outputs": [
    {
     "name": "stderr",
     "output_type": "stream",
     "text": [
      "C:\\Users\\ADMIN\\anaconda3\\lib\\site-packages\\seaborn\\_decorators.py:36: FutureWarning: Pass the following variable as a keyword arg: x. From version 0.12, the only valid positional argument will be `data`, and passing other arguments without an explicit keyword will result in an error or misinterpretation.\n",
      "  warnings.warn(\n"
     ]
    },
    {
     "data": {
      "text/plain": [
       "<AxesSubplot:xlabel='status', ylabel='count'>"
      ]
     },
     "execution_count": 15,
     "metadata": {},
     "output_type": "execute_result"
    },
    {
     "data": {
      "image/png": "[encoded data removed]",
      "text/plain": [
       "<Figure size 432x288 with 1 Axes>"
      ]
     },
     "metadata": {
      "needs_background": "light"
     },
     "output_type": "display_data"
    }
   ],
   "source": [
    "sns.countplot(df1['status'])"
   ]
  },
  {
   "cell_type": "code",
   "execution_count": 16,
   "id": "a0a83ca9",
   "metadata": {},
   "outputs": [
    {
     "data": {
      "text/plain": [
       "acquired    597\n",
       "closed      326\n",
       "Name: status, dtype: int64"
      ]
     },
     "execution_count": 16,
     "metadata": {},
     "output_type": "execute_result"
    }
   ],
   "source": [
    " df1['status'].value_counts()"
   ]
  },
  {
   "cell_type": "code",
   "execution_count": 17,
   "id": "2b1c0df7",
   "metadata": {},
   "outputs": [],
   "source": [
    "df2 = pd.get_dummies(df['status'], prefix='status')\n",
    "\n",
    "# Concatenate the one-hot encoded columns with the original DataFrame\n",
    "df3 = pd.concat([df1, df2], axis=1)\n",
    "\n",
    "# Drop the original 'status' column\n",
    "df3.drop('status', axis=1, inplace=True)\n"
   ]
  },
  {
   "cell_type": "code",
   "execution_count": 18,
   "id": "1d5b8c40",
   "metadata": {},
   "outputs": [
    {
     "name": "stdout",
     "output_type": "stream",
     "text": [
      "<class 'pandas.core.frame.DataFrame'>\n",
      "RangeIndex: 923 entries, 0 to 922\n",
      "Data columns (total 49 columns):\n",
      " #   Column                    Non-Null Count  Dtype  \n",
      "---  ------                    --------------  -----  \n",
      " 0   Unnamed: 0                923 non-null    int64  \n",
      " 1   state_code                923 non-null    object \n",
      " 2   latitude                  923 non-null    float64\n",
      " 3   longitude                 923 non-null    float64\n",
      " 4   zip_code                  923 non-null    object \n",
      " 5   id                        923 non-null    object \n",
      " 6   city                      923 non-null    object \n",
      " 7   name                      923 non-null    object \n",
      " 8   labels                    923 non-null    int64  \n",
      " 9   founded_at                923 non-null    object \n",
      " 10  closed_at                 919 non-null    object \n",
      " 11  first_funding_at          923 non-null    object \n",
      " 12  last_funding_at           923 non-null    object \n",
      " 13  age_first_funding_year    923 non-null    float64\n",
      " 14  age_last_funding_year     923 non-null    float64\n",
      " 15  age_first_milestone_year  923 non-null    float64\n",
      " 16  age_last_milestone_year   923 non-null    float64\n",
      " 17  relationships             923 non-null    int64  \n",
      " 18  funding_rounds            923 non-null    int64  \n",
      " 19  funding_total_usd         923 non-null    int64  \n",
      " 20  milestones                923 non-null    int64  \n",
      " 21  state_code.1              922 non-null    object \n",
      " 22  is_CA                     923 non-null    int64  \n",
      " 23  is_NY                     923 non-null    int64  \n",
      " 24  is_MA                     923 non-null    int64  \n",
      " 25  is_TX                     923 non-null    int64  \n",
      " 26  is_otherstate             923 non-null    int64  \n",
      " 27  category_code             923 non-null    object \n",
      " 28  is_software               923 non-null    int64  \n",
      " 29  is_web                    923 non-null    int64  \n",
      " 30  is_mobile                 923 non-null    int64  \n",
      " 31  is_enterprise             923 non-null    int64  \n",
      " 32  is_advertising            923 non-null    int64  \n",
      " 33  is_gamesvideo             923 non-null    int64  \n",
      " 34  is_ecommerce              923 non-null    int64  \n",
      " 35  is_biotech                923 non-null    int64  \n",
      " 36  is_consulting             923 non-null    int64  \n",
      " 37  is_othercategory          923 non-null    int64  \n",
      " 38  object_id                 923 non-null    object \n",
      " 39  has_VC                    923 non-null    int64  \n",
      " 40  has_angel                 923 non-null    int64  \n",
      " 41  has_roundA                923 non-null    int64  \n",
      " 42  has_roundB                923 non-null    int64  \n",
      " 43  has_roundC                923 non-null    int64  \n",
      " 44  has_roundD                923 non-null    int64  \n",
      " 45  avg_participants          923 non-null    float64\n",
      " 46  is_top500                 923 non-null    int64  \n",
      " 47  status_acquired           923 non-null    uint8  \n",
      " 48  status_closed             923 non-null    uint8  \n",
      "dtypes: float64(7), int64(28), object(12), uint8(2)\n",
      "memory usage: 340.8+ KB\n"
     ]
    }
   ],
   "source": [
    "df3.info()"
   ]
  },
  {
   "cell_type": "code",
   "execution_count": 19,
   "id": "d8f3d457",
   "metadata": {},
   "outputs": [],
   "source": [
    "df4=df3.select_dtypes(include=['int64','float','uint8'])"
   ]
  },
  {
   "cell_type": "code",
   "execution_count": 20,
   "id": "3f6e4c1c",
   "metadata": {
    "scrolled": true
   },
   "outputs": [
    {
     "name": "stdout",
     "output_type": "stream",
     "text": [
      "<class 'pandas.core.frame.DataFrame'>\n",
      "RangeIndex: 923 entries, 0 to 922\n",
      "Data columns (total 37 columns):\n",
      " #   Column                    Non-Null Count  Dtype  \n",
      "---  ------                    --------------  -----  \n",
      " 0   Unnamed: 0                923 non-null    int64  \n",
      " 1   latitude                  923 non-null    float64\n",
      " 2   longitude                 923 non-null    float64\n",
      " 3   labels                    923 non-null    int64  \n",
      " 4   age_first_funding_year    923 non-null    float64\n",
      " 5   age_last_funding_year     923 non-null    float64\n",
      " 6   age_first_milestone_year  923 non-null    float64\n",
      " 7   age_last_milestone_year   923 non-null    float64\n",
      " 8   relationships             923 non-null    int64  \n",
      " 9   funding_rounds            923 non-null    int64  \n",
      " 10  funding_total_usd         923 non-null    int64  \n",
      " 11  milestones                923 non-null    int64  \n",
      " 12  is_CA                     923 non-null    int64  \n",
      " 13  is_NY                     923 non-null    int64  \n",
      " 14  is_MA                     923 non-null    int64  \n",
      " 15  is_TX                     923 non-null    int64  \n",
      " 16  is_otherstate             923 non-null    int64  \n",
      " 17  is_software               923 non-null    int64  \n",
      " 18  is_web                    923 non-null    int64  \n",
      " 19  is_mobile                 923 non-null    int64  \n",
      " 20  is_enterprise             923 non-null    int64  \n",
      " 21  is_advertising            923 non-null    int64  \n",
      " 22  is_gamesvideo             923 non-null    int64  \n",
      " 23  is_ecommerce              923 non-null    int64  \n",
      " 24  is_biotech                923 non-null    int64  \n",
      " 25  is_consulting             923 non-null    int64  \n",
      " 26  is_othercategory          923 non-null    int64  \n",
      " 27  has_VC                    923 non-null    int64  \n",
      " 28  has_angel                 923 non-null    int64  \n",
      " 29  has_roundA                923 non-null    int64  \n",
      " 30  has_roundB                923 non-null    int64  \n",
      " 31  has_roundC                923 non-null    int64  \n",
      " 32  has_roundD                923 non-null    int64  \n",
      " 33  avg_participants          923 non-null    float64\n",
      " 34  is_top500                 923 non-null    int64  \n",
      " 35  status_acquired           923 non-null    uint8  \n",
      " 36  status_closed             923 non-null    uint8  \n",
      "dtypes: float64(7), int64(28), uint8(2)\n",
      "memory usage: 254.3 KB\n"
     ]
    }
   ],
   "source": [
    "df4.info()"
   ]
  },
  {
   "cell_type": "code",
   "execution_count": 21,
   "id": "7db8062e",
   "metadata": {},
   "outputs": [
    {
     "data": {
      "text/plain": [
       "Index(['Unnamed: 0', 'latitude', 'longitude', 'labels',\n",
       "       'age_first_funding_year', 'age_last_funding_year',\n",
       "       'age_first_milestone_year', 'age_last_milestone_year', 'relationships',\n",
       "       'funding_rounds', 'funding_total_usd', 'milestones', 'is_CA', 'is_NY',\n",
       "       'is_MA', 'is_TX', 'is_otherstate', 'is_software', 'is_web', 'is_mobile',\n",
       "       'is_enterprise', 'is_advertising', 'is_gamesvideo', 'is_ecommerce',\n",
       "       'is_biotech', 'is_consulting', 'is_othercategory', 'has_VC',\n",
       "       'has_angel', 'has_roundA', 'has_roundB', 'has_roundC', 'has_roundD',\n",
       "       'avg_participants', 'is_top500', 'status_acquired', 'status_closed'],\n",
       "      dtype='object')"
      ]
     },
     "execution_count": 21,
     "metadata": {},
     "output_type": "execute_result"
    }
   ],
   "source": [
    "df4.columns\n"
   ]
  },
  {
   "cell_type": "code",
   "execution_count": 123,
   "id": "70bd8669",
   "metadata": {},
   "outputs": [],
   "source": [
    "df5=df4.drop(['Unnamed: 0', 'latitude', 'longitude','age_first_funding_year', 'age_last_funding_year','has_roundA', 'has_roundB', 'has_roundC', 'has_roundD'],axis=1)"
   ]
  },
  {
   "cell_type": "code",
   "execution_count": null,
   "id": "5a7d62e1",
   "metadata": {},
   "outputs": [],
   "source": []
  },
  {
   "cell_type": "code",
   "execution_count": null,
   "id": "92e483a5",
   "metadata": {},
   "outputs": [],
   "source": []
  },
  {
   "cell_type": "code",
   "execution_count": null,
   "id": "ba42b76b",
   "metadata": {},
   "outputs": [],
   "source": []
  },
  {
   "cell_type": "code",
   "execution_count": null,
   "id": "f988d0d9",
   "metadata": {},
   "outputs": [],
   "source": []
  },
  {
   "cell_type": "code",
   "execution_count": 124,
   "id": "7066d474",
   "metadata": {},
   "outputs": [],
   "source": [
    "#imbalance removing\n"
   ]
  },
  {
   "cell_type": "code",
   "execution_count": 125,
   "id": "11cbebb7",
   "metadata": {},
   "outputs": [],
   "source": [
    "#spliting dataset into training set and testing set"
   ]
  },
  {
   "cell_type": "code",
   "execution_count": 126,
   "id": "e21d2b5f",
   "metadata": {},
   "outputs": [],
   "source": [
    "X=df5.drop('status_acquired',axis=1)\n",
    "y=df5['status_acquired']\n",
    "from sklearn.model_selection import train_test_split\n",
    "X_train,X_test,y_train,y_test = train_test_split(X,y,test_size=0.2,random_state=42,stratify=y)"
   ]
  },
  {
   "cell_type": "code",
   "execution_count": 127,
   "id": "62085e5b",
   "metadata": {},
   "outputs": [],
   "source": [
    "#feature scaling our data set as our data requires it for ml algorithms "
   ]
  },
  {
   "cell_type": "code",
   "execution_count": 128,
   "id": "6206bf10",
   "metadata": {},
   "outputs": [],
   "source": [
    "from sklearn.preprocessing import StandardScaler\n",
    "sc = StandardScaler()\n",
    "X_train=sc.fit_transform(X_train)\n",
    "X_test=sc.transform(X_test)"
   ]
  },
  {
   "cell_type": "code",
   "execution_count": 129,
   "id": "288ce24e",
   "metadata": {},
   "outputs": [],
   "source": [
    "from imblearn.over_sampling import SMOTE\n",
    "X_res,y_res=SMOTE().fit_resample(X,y)"
   ]
  },
  {
   "cell_type": "code",
   "execution_count": 130,
   "id": "ec7353d1",
   "metadata": {},
   "outputs": [],
   "source": [
    "\n",
    "from sklearn.linear_model import LogisticRegression\n",
    "from sklearn.metrics import accuracy_score\n",
    "from sklearn.metrics import f1_score,recall_score,precision_score\n",
    "\n"
   ]
  },
  {
   "cell_type": "code",
   "execution_count": 131,
   "id": "d60dc077",
   "metadata": {},
   "outputs": [],
   "source": [
    "log=LogisticRegression()\n",
    "log.fit(X_train,y_train)\n",
    "y_pred1=log.predict(X_test)"
   ]
  },
  {
   "cell_type": "code",
   "execution_count": null,
   "id": "9741810f",
   "metadata": {},
   "outputs": [],
   "source": []
  },
  {
   "cell_type": "code",
   "execution_count": 132,
   "id": "21f19b43",
   "metadata": {},
   "outputs": [],
   "source": [
    "X_train,X_test,y_train,y_test = train_test_split(X_res,y_res,test_size=0.2,random_state=42)\n",
    "X_train=sc.fit_transform(X_train)\n",
    "X_test=sc.transform(X_test)\n",
    "log.fit(X_train,y_train)\n",
    "y_pred1=log.predict(X_test)"
   ]
  },
  {
   "cell_type": "code",
   "execution_count": 133,
   "id": "94333e6e",
   "metadata": {},
   "outputs": [
    {
     "data": {
      "text/plain": [
       "1.0"
      ]
     },
     "execution_count": 133,
     "metadata": {},
     "output_type": "execute_result"
    }
   ],
   "source": [
    "accuracy_score(y_test,y_pred1)"
   ]
  },
  {
   "cell_type": "code",
   "execution_count": 134,
   "id": "da650b48",
   "metadata": {},
   "outputs": [
    {
     "data": {
      "text/plain": [
       "1.0"
      ]
     },
     "execution_count": 134,
     "metadata": {},
     "output_type": "execute_result"
    }
   ],
   "source": [
    "precision_score(y_test,y_pred1)"
   ]
  },
  {
   "cell_type": "code",
   "execution_count": 135,
   "id": "5bb2851c",
   "metadata": {},
   "outputs": [
    {
     "data": {
      "text/plain": [
       "1.0"
      ]
     },
     "execution_count": 135,
     "metadata": {},
     "output_type": "execute_result"
    }
   ],
   "source": [
    "recall_score(y_test,y_pred1)"
   ]
  },
  {
   "cell_type": "code",
   "execution_count": 136,
   "id": "8612cd8f",
   "metadata": {},
   "outputs": [
    {
     "data": {
      "text/plain": [
       "1.0"
      ]
     },
     "execution_count": 136,
     "metadata": {},
     "output_type": "execute_result"
    }
   ],
   "source": [
    "f1_score(y_test,y_pred1)"
   ]
  },
  {
   "cell_type": "code",
   "execution_count": 137,
   "id": "c4342bc7",
   "metadata": {},
   "outputs": [],
   "source": [
    "from sklearn import svm"
   ]
  },
  {
   "cell_type": "code",
   "execution_count": 138,
   "id": "f0988821",
   "metadata": {},
   "outputs": [
    {
     "data": {
      "text/plain": [
       "SVC()"
      ]
     },
     "execution_count": 138,
     "metadata": {},
     "output_type": "execute_result"
    }
   ],
   "source": [
    "svm=svm.SVC()\n",
    "svm.fit(X_train,y_train)"
   ]
  },
  {
   "cell_type": "code",
   "execution_count": 139,
   "id": "6dc67349",
   "metadata": {},
   "outputs": [
    {
     "data": {
      "text/plain": [
       "1.0"
      ]
     },
     "execution_count": 139,
     "metadata": {},
     "output_type": "execute_result"
    }
   ],
   "source": [
    "y_pred2=svm.predict(X_test)\n",
    "accuracy_score(y_test,y_pred2)"
   ]
  },
  {
   "cell_type": "code",
   "execution_count": 140,
   "id": "9e73713b",
   "metadata": {},
   "outputs": [
    {
     "data": {
      "text/plain": [
       "1.0"
      ]
     },
     "execution_count": 140,
     "metadata": {},
     "output_type": "execute_result"
    }
   ],
   "source": [
    "precision_score(y_test,y_pred2)"
   ]
  },
  {
   "cell_type": "code",
   "execution_count": 141,
   "id": "b41933a2",
   "metadata": {},
   "outputs": [],
   "source": [
    "from sklearn.neighbors import KNeighborsClassifier\n",
    "knn=KNeighborsClassifier()\n",
    "knn.fit(X_train,y_train)\n",
    "y_pred3=knn.predict(X_test)"
   ]
  },
  {
   "cell_type": "code",
   "execution_count": 142,
   "id": "08c49333",
   "metadata": {},
   "outputs": [
    {
     "data": {
      "text/plain": [
       "0.9623430962343096"
      ]
     },
     "execution_count": 142,
     "metadata": {},
     "output_type": "execute_result"
    }
   ],
   "source": [
    "accuracy_score(y_test,y_pred3)"
   ]
  },
  {
   "cell_type": "code",
   "execution_count": 143,
   "id": "23092963",
   "metadata": {},
   "outputs": [
    {
     "data": {
      "text/plain": [
       "0.9552238805970149"
      ]
     },
     "execution_count": 143,
     "metadata": {},
     "output_type": "execute_result"
    }
   ],
   "source": [
    "precision_score(y_test,y_pred3)"
   ]
  },
  {
   "cell_type": "code",
   "execution_count": 144,
   "id": "444a018e",
   "metadata": {},
   "outputs": [],
   "source": [
    "from sklearn.tree import DecisionTreeClassifier"
   ]
  },
  {
   "cell_type": "code",
   "execution_count": 145,
   "id": "7ba61c58",
   "metadata": {},
   "outputs": [],
   "source": [
    "dt = DecisionTreeClassifier()"
   ]
  },
  {
   "cell_type": "code",
   "execution_count": 146,
   "id": "2ea1f18a",
   "metadata": {},
   "outputs": [
    {
     "data": {
      "text/plain": [
       "DecisionTreeClassifier()"
      ]
     },
     "execution_count": 146,
     "metadata": {},
     "output_type": "execute_result"
    }
   ],
   "source": [
    "dt.fit(X_train,y_train)"
   ]
  },
  {
   "cell_type": "code",
   "execution_count": 147,
   "id": "3058147f",
   "metadata": {},
   "outputs": [],
   "source": [
    "y_pred4=dt.predict(X_test)"
   ]
  },
  {
   "cell_type": "code",
   "execution_count": 148,
   "id": "daebf192",
   "metadata": {},
   "outputs": [
    {
     "data": {
      "text/plain": [
       "1.0"
      ]
     },
     "execution_count": 148,
     "metadata": {},
     "output_type": "execute_result"
    }
   ],
   "source": [
    "accuracy_score(y_test,y_pred4)"
   ]
  },
  {
   "cell_type": "code",
   "execution_count": 149,
   "id": "8e9405d9",
   "metadata": {},
   "outputs": [
    {
     "data": {
      "text/plain": [
       "1.0"
      ]
     },
     "execution_count": 149,
     "metadata": {},
     "output_type": "execute_result"
    }
   ],
   "source": [
    "precision_score(y_test,y_pred4)"
   ]
  },
  {
   "cell_type": "code",
   "execution_count": 150,
   "id": "e769f00c",
   "metadata": {},
   "outputs": [],
   "source": [
    "from sklearn.ensemble import RandomForestClassifier\n",
    "rf= RandomForestClassifier()\n",
    "rf.fit(X_train,y_train)\n",
    "y_pred5=rf.predict(X_test)"
   ]
  },
  {
   "cell_type": "code",
   "execution_count": 151,
   "id": "4bbb1a01",
   "metadata": {},
   "outputs": [
    {
     "data": {
      "text/plain": [
       "1.0"
      ]
     },
     "execution_count": 151,
     "metadata": {},
     "output_type": "execute_result"
    }
   ],
   "source": [
    "accuracy_score(y_test,y_pred5)"
   ]
  },
  {
   "cell_type": "code",
   "execution_count": 152,
   "id": "36ffebb6",
   "metadata": {},
   "outputs": [
    {
     "data": {
      "text/plain": [
       "1.0"
      ]
     },
     "execution_count": 152,
     "metadata": {},
     "output_type": "execute_result"
    }
   ],
   "source": [
    "precision_score(y_test,y_pred5)"
   ]
  },
  {
   "cell_type": "code",
   "execution_count": 153,
   "id": "0a4c72a1",
   "metadata": {},
   "outputs": [],
   "source": [
    "# gradient boosting"
   ]
  },
  {
   "cell_type": "code",
   "execution_count": 154,
   "id": "9946f493",
   "metadata": {},
   "outputs": [],
   "source": [
    "from sklearn.ensemble import GradientBoostingClassifier"
   ]
  },
  {
   "cell_type": "code",
   "execution_count": 155,
   "id": "9f53be33",
   "metadata": {},
   "outputs": [],
   "source": [
    "gbc=GradientBoostingClassifier()"
   ]
  },
  {
   "cell_type": "code",
   "execution_count": 156,
   "id": "3c349faf",
   "metadata": {},
   "outputs": [
    {
     "data": {
      "text/plain": [
       "GradientBoostingClassifier()"
      ]
     },
     "execution_count": 156,
     "metadata": {},
     "output_type": "execute_result"
    }
   ],
   "source": [
    "gbc.fit(X_train,y_train)"
   ]
  },
  {
   "cell_type": "code",
   "execution_count": 157,
   "id": "e7dc7891",
   "metadata": {},
   "outputs": [],
   "source": [
    "y_pred6=gbc.predict(X_test)"
   ]
  },
  {
   "cell_type": "code",
   "execution_count": 158,
   "id": "ddbfae4a",
   "metadata": {},
   "outputs": [
    {
     "data": {
      "text/plain": [
       "1.0"
      ]
     },
     "execution_count": 158,
     "metadata": {},
     "output_type": "execute_result"
    }
   ],
   "source": [
    "accuracy_score(y_test,y_pred6)"
   ]
  },
  {
   "cell_type": "code",
   "execution_count": 159,
   "id": "ecd934c8",
   "metadata": {},
   "outputs": [
    {
     "data": {
      "text/plain": [
       "1.0"
      ]
     },
     "execution_count": 159,
     "metadata": {},
     "output_type": "execute_result"
    }
   ],
   "source": [
    "precision_score(y_test,y_pred6)"
   ]
  },
  {
   "cell_type": "code",
   "execution_count": 160,
   "id": "6899eabc",
   "metadata": {},
   "outputs": [],
   "source": [
    "final_data=pd.DataFrame({'models':['LR','SVC','KNN','DT','RF','GBC'],'ACC':[accuracy_score(y_test,y_pred1),accuracy_score(y_test,y_pred2),accuracy_score(y_test,y_pred3),accuracy_score(y_test,y_pred4),accuracy_score(y_test,y_pred5),accuracy_score(y_test,y_pred6)]})"
   ]
  },
  {
   "cell_type": "code",
   "execution_count": 161,
   "id": "dae2c8d9",
   "metadata": {},
   "outputs": [
    {
     "data": {
      "text/html": [
       "<div>\n",
       "<style scoped>\n",
       "    .dataframe tbody tr th:only-of-type {\n",
       "        vertical-align: middle;\n",
       "    }\n",
       "\n",
       "    .dataframe tbody tr th {\n",
       "        vertical-align: top;\n",
       "    }\n",
       "\n",
       "    .dataframe thead th {\n",
       "        text-align: right;\n",
       "    }\n",
       "</style>\n",
       "<table border=\"1\" class=\"dataframe\">\n",
       "  <thead>\n",
       "    <tr style=\"text-align: right;\">\n",
       "      <th></th>\n",
       "      <th>models</th>\n",
       "      <th>ACC</th>\n",
       "    </tr>\n",
       "  </thead>\n",
       "  <tbody>\n",
       "    <tr>\n",
       "      <th>0</th>\n",
       "      <td>LR</td>\n",
       "      <td>1.000000</td>\n",
       "    </tr>\n",
       "    <tr>\n",
       "      <th>1</th>\n",
       "      <td>SVC</td>\n",
       "      <td>1.000000</td>\n",
       "    </tr>\n",
       "    <tr>\n",
       "      <th>2</th>\n",
       "      <td>KNN</td>\n",
       "      <td>0.962343</td>\n",
       "    </tr>\n",
       "    <tr>\n",
       "      <th>3</th>\n",
       "      <td>DT</td>\n",
       "      <td>1.000000</td>\n",
       "    </tr>\n",
       "    <tr>\n",
       "      <th>4</th>\n",
       "      <td>RF</td>\n",
       "      <td>1.000000</td>\n",
       "    </tr>\n",
       "    <tr>\n",
       "      <th>5</th>\n",
       "      <td>GBC</td>\n",
       "      <td>1.000000</td>\n",
       "    </tr>\n",
       "  </tbody>\n",
       "</table>\n",
       "</div>"
      ],
      "text/plain": [
       "  models       ACC\n",
       "0     LR  1.000000\n",
       "1    SVC  1.000000\n",
       "2    KNN  0.962343\n",
       "3     DT  1.000000\n",
       "4     RF  1.000000\n",
       "5    GBC  1.000000"
      ]
     },
     "execution_count": 161,
     "metadata": {},
     "output_type": "execute_result"
    }
   ],
   "source": [
    "final_data"
   ]
  },
  {
   "cell_type": "code",
   "execution_count": 162,
   "id": "22b675a4",
   "metadata": {},
   "outputs": [
    {
     "name": "stderr",
     "output_type": "stream",
     "text": [
      "C:\\Users\\ADMIN\\anaconda3\\lib\\site-packages\\seaborn\\_decorators.py:36: FutureWarning: Pass the following variables as keyword args: x, y. From version 0.12, the only valid positional argument will be `data`, and passing other arguments without an explicit keyword will result in an error or misinterpretation.\n",
      "  warnings.warn(\n"
     ]
    },
    {
     "data": {
      "text/plain": [
       "<AxesSubplot:xlabel='models', ylabel='ACC'>"
      ]
     },
     "execution_count": 162,
     "metadata": {},
     "output_type": "execute_result"
    },
    {
     "data": {
      "image/png": "[encoded data removed]",
      "text/plain": [
       "<Figure size 432x288 with 1 Axes>"
      ]
     },
     "metadata": {
      "needs_background": "light"
     },
     "output_type": "display_data"
    }
   ],
   "source": [
    "sns.barplot(final_data['models'],final_data['ACC'])"
   ]
  },
  {
   "cell_type": "code",
   "execution_count": 163,
   "id": "aad69353",
   "metadata": {},
   "outputs": [],
   "source": [
    "final_data=pd.DataFrame({'models':['LR','SVC','KNN','DT','RF','GBC'],'pre':[precision_score(y_test,y_pred1),precision_score(y_test,y_pred2),precision_score(y_test,y_pred3),precision_score(y_test,y_pred4),precision_score(y_test,y_pred5),precision_score(y_test,y_pred6)]})"
   ]
  },
  {
   "cell_type": "code",
   "execution_count": 164,
   "id": "6d98d466",
   "metadata": {},
   "outputs": [
    {
     "data": {
      "text/html": [
       "<div>\n",
       "<style scoped>\n",
       "    .dataframe tbody tr th:only-of-type {\n",
       "        vertical-align: middle;\n",
       "    }\n",
       "\n",
       "    .dataframe tbody tr th {\n",
       "        vertical-align: top;\n",
       "    }\n",
       "\n",
       "    .dataframe thead th {\n",
       "        text-align: right;\n",
       "    }\n",
       "</style>\n",
       "<table border=\"1\" class=\"dataframe\">\n",
       "  <thead>\n",
       "    <tr style=\"text-align: right;\">\n",
       "      <th></th>\n",
       "      <th>models</th>\n",
       "      <th>pre</th>\n",
       "    </tr>\n",
       "  </thead>\n",
       "  <tbody>\n",
       "    <tr>\n",
       "      <th>0</th>\n",
       "      <td>LR</td>\n",
       "      <td>1.000000</td>\n",
       "    </tr>\n",
       "    <tr>\n",
       "      <th>1</th>\n",
       "      <td>SVC</td>\n",
       "      <td>1.000000</td>\n",
       "    </tr>\n",
       "    <tr>\n",
       "      <th>2</th>\n",
       "      <td>KNN</td>\n",
       "      <td>0.955224</td>\n",
       "    </tr>\n",
       "    <tr>\n",
       "      <th>3</th>\n",
       "      <td>DT</td>\n",
       "      <td>1.000000</td>\n",
       "    </tr>\n",
       "    <tr>\n",
       "      <th>4</th>\n",
       "      <td>RF</td>\n",
       "      <td>1.000000</td>\n",
       "    </tr>\n",
       "    <tr>\n",
       "      <th>5</th>\n",
       "      <td>GBC</td>\n",
       "      <td>1.000000</td>\n",
       "    </tr>\n",
       "  </tbody>\n",
       "</table>\n",
       "</div>"
      ],
      "text/plain": [
       "  models       pre\n",
       "0     LR  1.000000\n",
       "1    SVC  1.000000\n",
       "2    KNN  0.955224\n",
       "3     DT  1.000000\n",
       "4     RF  1.000000\n",
       "5    GBC  1.000000"
      ]
     },
     "execution_count": 164,
     "metadata": {},
     "output_type": "execute_result"
    }
   ],
   "source": [
    "final_data"
   ]
  },
  {
   "cell_type": "code",
   "execution_count": 165,
   "id": "767373e4",
   "metadata": {},
   "outputs": [],
   "source": [
    "X_res=sc.fit_transform(X_res)"
   ]
  },
  {
   "cell_type": "code",
   "execution_count": 166,
   "id": "b9ffb009",
   "metadata": {},
   "outputs": [
    {
     "data": {
      "text/plain": [
       "RandomForestClassifier()"
      ]
     },
     "execution_count": 166,
     "metadata": {},
     "output_type": "execute_result"
    }
   ],
   "source": [
    "rf.fit(X_res,y_res)"
   ]
  },
  {
   "cell_type": "code",
   "execution_count": 167,
   "id": "2abb049b",
   "metadata": {},
   "outputs": [],
   "source": [
    "import joblib"
   ]
  },
  {
   "cell_type": "code",
   "execution_count": 168,
   "id": "12eed481",
   "metadata": {},
   "outputs": [
    {
     "data": {
      "text/plain": [
       "['startup_success_model']"
      ]
     },
     "execution_count": 168,
     "metadata": {},
     "output_type": "execute_result"
    }
   ],
   "source": [
    "joblib.dump(rf,'startup_success_model')"
   ]
  },
  {
   "cell_type": "code",
   "execution_count": 169,
   "id": "41f71c5e",
   "metadata": {},
   "outputs": [],
   "source": [
    "model = joblib.load('startup_success_model')"
   ]
  },
  {
   "cell_type": "code",
   "execution_count": 170,
   "id": "c596ab6c",
   "metadata": {},
   "outputs": [
    {
     "data": {
      "text/plain": [
       "Index(['Unnamed: 0', 'latitude', 'longitude', 'labels',\n",
       "       'age_first_funding_year', 'age_last_funding_year',\n",
       "       'age_first_milestone_year', 'age_last_milestone_year', 'relationships',\n",
       "       'funding_rounds', 'funding_total_usd', 'milestones', 'is_CA', 'is_NY',\n",
       "       'is_MA', 'is_TX', 'is_otherstate', 'is_software', 'is_web', 'is_mobile',\n",
       "       'is_enterprise', 'is_advertising', 'is_gamesvideo', 'is_ecommerce',\n",
       "       'is_biotech', 'is_consulting', 'is_othercategory', 'has_VC',\n",
       "       'has_angel', 'has_roundA', 'has_roundB', 'has_roundC', 'has_roundD',\n",
       "       'avg_participants', 'is_top500', 'status_acquired', 'status_closed'],\n",
       "      dtype='object')"
      ]
     },
     "execution_count": 170,
     "metadata": {},
     "output_type": "execute_result"
    }
   ],
   "source": [
    "df4.columns"
   ]
  },
  {
   "cell_type": "code",
   "execution_count": 171,
   "id": "0ea8da19",
   "metadata": {},
   "outputs": [],
   "source": [
    "import tkinter as tk\n",
    "from tkinter import ttk\n",
    "\n",
    "rf = RandomForestClassifier()\n",
    "rf.fit(X_res,y_res)\n",
    "\n",
    "\n",
    "\n",
    "\n",
    "\n",
    "# GUI application\n",
    "def predict():\n",
    "    input_data = [float(entry.get()) if entry.get().strip() else 0.0 for entry in entry_widgets]\n",
    "    prediction = rf.predict([input_data])\n",
    "\n",
    "    # Map the numerical prediction result to labels\n",
    "    prediction_label = \"Acquired\" if prediction[0] == 1 else \"Closed\"\n",
    "    result_label.config(text=f\"Predicted Status: {prediction_label}\")\n",
    "\n",
    "root = tk.Tk()\n",
    "root.title(\"Random Forest Classifier GUI\")\n",
    "\n",
    "frame = ttk.Frame(root)\n",
    "frame.pack(padx=20, pady=20)\n",
    "\n",
    "entry_widgets = []\n",
    "\n",
    "features = list(df4.columns)  # Use the column names from your dataset\n",
    "\n",
    "columns = 3\n",
    "for idx, feature in enumerate(features):\n",
    "    row = idx // columns\n",
    "    col = idx % columns\n",
    "\n",
    "    label = ttk.Label(frame, text=feature)\n",
    "    label.grid(row=row, column=col * 2, sticky='w', padx=5, pady=5)\n",
    "\n",
    "    entry = ttk.Entry(frame)\n",
    "    entry.grid(row=row, column=col * 2 + 1, padx=5, pady=5)\n",
    "\n",
    "    entry_widgets.append(entry)\n",
    "\n",
    "predict_button = ttk.Button(root, text=\"Predict\", command=predict)\n",
    "predict_button.pack(pady=10)\n",
    "\n",
    "result_label = ttk.Label(root, text=\"\")\n",
    "result_label.pack()\n",
    "\n",
    "root.mainloop()\n",
    "\n"
   ]
  },
  {
   "cell_type": "code",
   "execution_count": null,
   "id": "82bf3f52",
   "metadata": {},
   "outputs": [],
   "source": []
  },
  {
   "cell_type": "code",
   "execution_count": null,
   "id": "f580c376",
   "metadata": {},
   "outputs": [],
   "source": []
  },
  {
   "cell_type": "code",
   "execution_count": null,
   "id": "33748735",
   "metadata": {},
   "outputs": [],
   "source": []
  }
 ],
 "metadata": {
  "kernelspec": {
   "display_name": "Python 3 (ipykernel)",
   "language": "python",
   "name": "python3"
  },
  "language_info": {
   "codemirror_mode": {
    "name": "ipython",
    "version": 3
   },
   "file_extension": ".py",
   "mimetype": "text/x-python",
   "name": "python",
   "nbconvert_exporter": "python",
   "pygments_lexer": "ipython3",
   "version": "3.9.12"
  }
 },
 "nbformat": 4,
 "nbformat_minor": 5
}
